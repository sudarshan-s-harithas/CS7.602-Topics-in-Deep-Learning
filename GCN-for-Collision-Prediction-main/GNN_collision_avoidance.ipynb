{
 "cells": [
  {
   "cell_type": "code",
   "execution_count": 11,
   "id": "b2e6d815",
   "metadata": {},
   "outputs": [],
   "source": [
    "import numpy as np\n",
    "import torch\n",
    "from torch_geometric.loader import DataLoader\n",
    "from torch_geometric.data import Data\n",
    "import LoadData as LD"
   ]
  },
  {
   "cell_type": "code",
   "execution_count": 12,
   "id": "78856667",
   "metadata": {},
   "outputs": [
    {
     "name": "stdout",
     "output_type": "stream",
     "text": [
      "None\n"
     ]
    }
   ],
   "source": [
    "DataArray = LD.GetData()\n",
    "\n",
    "print( DataArray )"
   ]
  },
  {
   "cell_type": "code",
   "execution_count": 13,
   "id": "da91c3b7",
   "metadata": {},
   "outputs": [
    {
     "name": "stdout",
     "output_type": "stream",
     "text": [
      "torch.Size([17, 20])\n"
     ]
    }
   ],
   "source": [
    "mu1 = 0 \n",
    "sigma1 = 0.5 \n",
    "\n",
    "dist1 = np.array(  np.random.normal(0, sigma1, 20 ) ,  dtype=np.float32) \n",
    "dist2 = np.array( np.random.normal(0.6, sigma1, 20) ,  dtype=np.float32) \n",
    "dist3 = np.array( np.random.normal(0.8, sigma1, 20) ,  dtype=np.float32) \n",
    "dist4 = np.array( np.random.normal(1.0, sigma1, 20) ,  dtype=np.float32) \n",
    "\n",
    "dist5 = np.array( np.random.normal(1.3, sigma1, 20) ,  dtype=np.float32) \n",
    "dist6 =  np.array( np.random.normal(2.5, sigma1, 20) ,  dtype=np.float32) \n",
    "dist7 = np.array( np.random.normal(5, sigma1, 20) ,  dtype=np.float32) \n",
    "dist8 =  np.array( np.random.normal(6, sigma1, 20) ,  dtype=np.float32) \n",
    "dist9 =np.array( np.random.normal(5.5, sigma1, 20) ,  dtype=np.float32) \n",
    "dist10 = np.array( np.random.normal(8.2, sigma1, 20) ,  dtype=np.float32) \n",
    "\n",
    "dist11 = dist1\n",
    "dist12 = dist3\n",
    "dist13 = dist6\n",
    "dist14 = dist8\n",
    "dist15 = dist9 \n",
    "dist16 = dist1 \n",
    "dist17 = dist8\n",
    "\n",
    "\n",
    "Data1 = np.asarray( [ dist1 , dist2 , dist3 , dist4 , dist5 ,\n",
    "dist6, dist7 , dist8 , dist9 , dist10 , dist11 , dist12 , dist13 , dist14 , dist15 ,dist16 , dist17 ])\n",
    "\n",
    "Data1 = torch.tensor(Data1 , device='cpu' , dtype=torch.float32)\n",
    "print( Data1.shape)\n",
    "y = torch.tensor([ 1,1,1,1,0,0,0,0,0,0,     1 , 1 ,0,0,0 ,   1 , 0])"
   ]
  },
  {
   "cell_type": "code",
   "execution_count": 14,
   "id": "3ee1ffe7",
   "metadata": {},
   "outputs": [
    {
     "name": "stdout",
     "output_type": "stream",
     "text": [
      "Data(x=[17, 20], edge_index=[2, 30], y=[17], train_mask=[17], val_mask=[17], test_mask=[17])\n"
     ]
    }
   ],
   "source": [
    "edge_index = torch.tensor([[0, 10],\n",
    "                           [10, 0],\n",
    "\n",
    "                           [1, 10],\n",
    "                           [10, 1] ,\n",
    "\n",
    "                           [2 , 11] , \n",
    "                           [11, 2] , \n",
    "\n",
    "                           [3 , 11] , \n",
    "                           [11 , 3] , \n",
    "\n",
    "                           [4 , 12] , \n",
    "                           [12 , 4] ,\n",
    "\n",
    "                           [5,12],\n",
    "                           [12,5],\n",
    "\n",
    "                           [6,13],\n",
    "                           [13,6],\n",
    "\n",
    "                           [7 , 13],\n",
    "                           [13 , 7],\n",
    "\n",
    "                           [8,14],\n",
    "                           [14,8],\n",
    "\n",
    "                           [9 ,14],\n",
    "                           [14,8],\n",
    "\n",
    "                           [10,15],\n",
    "                           [15,10],\n",
    "\n",
    "                           [15,11],\n",
    "                           [11,15],\n",
    "\n",
    "                           [12,16],\n",
    "                           [16,12],\n",
    "\n",
    "                           [13,16],\n",
    "                           [16,13],\n",
    "\n",
    "                           [14,16],\n",
    "                           [16,14]\n",
    "\n",
    "                            ] , dtype=torch.long)\n",
    "\n",
    "\n",
    "edge_index = torch.transpose( edge_index ,  0 , 1)\n",
    "\n",
    "train_mask = torch.tensor( [ True, True , True, False,True,True,True,True,True,False,False,False,False,False,False,False,False])\n",
    "\n",
    "data = Data(x=Data1, edge_index=edge_index , y=y , train_mask=train_mask , val_mask= train_mask, test_mask=train_mask)\n",
    "\n",
    "print(data)"
   ]
  },
  {
   "cell_type": "code",
   "execution_count": 15,
   "id": "f941eff9",
   "metadata": {},
   "outputs": [],
   "source": [
    "import torch.nn.functional as F\n",
    "from torch_geometric.nn import GCNConv\n",
    "\n",
    "class GCN(torch.nn.Module):\n",
    "    def __init__(self):\n",
    "        super().__init__()\n",
    "        self.conv1 = GCNConv(20, 16)\n",
    "        self.conv2 = GCNConv(16, 2)\n",
    "\n",
    "    def forward(self, data):\n",
    "        x, edge_index = data.x, data.edge_index\n",
    "        \n",
    "        x = self.conv1(x, edge_index)\n",
    "        x = F.relu(x)\n",
    "        x = F.dropout(x, training=self.training)\n",
    "        x = self.conv2(x, edge_index)\n",
    "\n",
    "        return F.log_softmax(x, dim=1)"
   ]
  },
  {
   "cell_type": "code",
   "execution_count": 19,
   "id": "74f1234b",
   "metadata": {},
   "outputs": [
    {
     "name": "stdout",
     "output_type": "stream",
     "text": [
      "cpu\n",
      "tensor([1, 1, 1, 1, 0, 0, 0, 0, 0, 0, 1, 1, 0, 0, 0, 1, 0])\n",
      "tensor([1, 1, 1, 1, 0, 0, 0, 0, 0, 0, 1, 1, 0, 0, 0, 1, 0])\n",
      "tensor([1, 1, 1, 1, 0, 0, 0, 0, 0, 0, 1, 1, 0, 0, 0, 1, 0])\n",
      "tensor([1, 1, 1, 1, 0, 0, 0, 0, 0, 0, 1, 1, 0, 0, 0, 1, 0])\n",
      "tensor([1, 1, 1, 1, 0, 0, 0, 0, 0, 0, 1, 1, 0, 0, 0, 1, 0])\n",
      "tensor([1, 1, 1, 1, 0, 0, 0, 0, 0, 0, 1, 1, 0, 0, 0, 1, 0])\n",
      "tensor([1, 1, 1, 1, 0, 0, 0, 0, 0, 0, 1, 1, 0, 0, 0, 1, 0])\n",
      "tensor([1, 1, 1, 1, 0, 0, 0, 0, 0, 0, 1, 1, 0, 0, 0, 1, 0])\n",
      "tensor([1, 1, 1, 1, 0, 0, 0, 0, 0, 0, 1, 1, 0, 0, 0, 1, 0])\n",
      "tensor([1, 1, 1, 1, 0, 0, 0, 0, 0, 0, 1, 1, 0, 0, 0, 1, 0])\n",
      "tensor([1, 1, 1, 1, 0, 0, 0, 0, 0, 0, 1, 1, 0, 0, 0, 1, 0])\n",
      "tensor([1, 1, 1, 1, 0, 0, 0, 0, 0, 0, 1, 1, 0, 0, 0, 1, 0])\n",
      "tensor([1, 1, 1, 1, 0, 0, 0, 0, 0, 0, 1, 1, 0, 0, 0, 1, 0])\n",
      "tensor([1, 1, 1, 1, 0, 0, 0, 0, 0, 0, 1, 1, 0, 0, 0, 1, 0])\n",
      "tensor([1, 1, 1, 1, 0, 0, 0, 0, 0, 0, 1, 1, 0, 0, 0, 1, 0])\n",
      "tensor([1, 1, 1, 1, 0, 0, 0, 0, 0, 0, 1, 1, 0, 0, 0, 1, 0])\n",
      "tensor([1, 1, 1, 1, 0, 0, 0, 0, 0, 0, 1, 1, 0, 0, 0, 1, 0])\n",
      "tensor([1, 1, 1, 1, 0, 0, 0, 0, 0, 0, 1, 1, 0, 0, 0, 1, 0])\n",
      "tensor([1, 1, 1, 1, 0, 0, 0, 0, 0, 0, 1, 1, 0, 0, 0, 1, 0])\n",
      "tensor([1, 1, 1, 1, 0, 0, 0, 0, 0, 0, 1, 1, 0, 0, 0, 1, 0])\n"
     ]
    }
   ],
   "source": [
    "device = 'cpu' #torch.device('cuda' if torch.cuda.is_available() else 'cpu')\n",
    "print(device)\n",
    "model = GCN().to(device)\n",
    "# data = dataset[0].to(device)\n",
    "optimizer = torch.optim.Adam(model.parameters(), lr=0.01, weight_decay=5e-4)\n",
    "\n",
    "model.train()\n",
    "for epoch in range(20):\n",
    "    optimizer.zero_grad()\n",
    "    out = model(data)\n",
    "    print(data.y)\n",
    "    loss = F.nll_loss(out[data.train_mask], data.y[data.train_mask])\n",
    "    loss.backward()\n",
    "    optimizer.step()\n"
   ]
  },
  {
   "cell_type": "code",
   "execution_count": 6,
   "id": "8ba76f42",
   "metadata": {},
   "outputs": [
    {
     "name": "stdout",
     "output_type": "stream",
     "text": [
      "tensor([1, 1, 1, 1, 0, 0, 0, 0, 0, 0, 1, 1, 0, 0, 0, 1, 0])\n",
      "tensor(8)\n",
      "Accuracy: 1.0000\n"
     ]
    }
   ],
   "source": [
    "model.eval()\n",
    "pred = model(data).argmax(dim=1)\n",
    "print(pred)\n",
    "correct = (pred[data.test_mask] == data.y[data.test_mask]).sum()\n",
    "print(correct)\n",
    "\n",
    "acc = int(correct) / int(data.test_mask.sum())\n",
    "print(f'Accuracy: {acc:.4f}')\n",
    "torch.save(model, 'collision_detection_GNN.pt')"
   ]
  },
  {
   "cell_type": "code",
   "execution_count": 7,
   "id": "e7e38af6",
   "metadata": {},
   "outputs": [],
   "source": [
    "model2 = torch.load('collision_detection_GNN.pt')"
   ]
  },
  {
   "cell_type": "code",
   "execution_count": 8,
   "id": "e062aaec",
   "metadata": {},
   "outputs": [
    {
     "name": "stdout",
     "output_type": "stream",
     "text": [
      "tensor([1, 1, 1, 1, 0, 0, 0, 0, 0, 0, 1, 1, 0, 0, 0, 1, 0])\n",
      "tensor([ True,  True,  True, False,  True,  True,  True,  True,  True, False,\n",
      "        False, False, False, False, False, False, False])\n"
     ]
    }
   ],
   "source": [
    "print(y)\n",
    "print(data.test_mask)"
   ]
  },
  {
   "cell_type": "code",
   "execution_count": 9,
   "id": "9cfa59f5",
   "metadata": {},
   "outputs": [],
   "source": [
    "import numpy as np\n",
    "Adj = np.zeros( ( 17, 17) )\n",
    "\n",
    "Adj[0][10] = 1\n",
    "Adj[10][0] = 1\n",
    "\n",
    "\n",
    "Adj[1][10] = 1\n",
    "Adj[10][1] = 1\n",
    "\n",
    "Adj[2][11] = 1\n",
    "Adj[11][2] = 1\n",
    "\n",
    "Adj[3][11] = 1\n",
    "Adj[11][3] = 1\n",
    "\n",
    "Adj[4][12] = 1\n",
    "Adj[12][4] = 1\n",
    "\n",
    "Adj[5][12] = 1\n",
    "Adj[12][5] = 1\n",
    "\n",
    "Adj[6][13] = 1\n",
    "Adj[13][6] = 1\n",
    "\n",
    "\n",
    "Adj[7][13] = 1\n",
    "Adj[13][7] = 1\n",
    "\n",
    "\n",
    "Adj[8][14] = 1\n",
    "Adj[14][8] = 1\n",
    "\n",
    "Adj[10][14] = 1\n",
    "Adj[14][10] = 1\n",
    "\n",
    "Adj[10][15] = 1\n",
    "Adj[15][10] = 1\n",
    "\n",
    "Adj[11][15] = 1\n",
    "Adj[15][11] = 1\n",
    "\n",
    "\n",
    "Adj[12][16] = 1\n",
    "Adj[16][12] = 1\n",
    "\n",
    "Adj[13][16] = 1\n",
    "Adj[16][13] = 1\n",
    "\n",
    "\n",
    "Adj[14][16] = 1\n",
    "Adj[16][14] = 1\n",
    "\n"
   ]
  }
 ],
 "metadata": {
  "kernelspec": {
   "display_name": "TDL2022",
   "language": "python",
   "name": "tdl2022"
  },
  "language_info": {
   "codemirror_mode": {
    "name": "ipython",
    "version": 3
   },
   "file_extension": ".py",
   "mimetype": "text/x-python",
   "name": "python",
   "nbconvert_exporter": "python",
   "pygments_lexer": "ipython3",
   "version": "3.8.10"
  }
 },
 "nbformat": 4,
 "nbformat_minor": 5
}
