{
 "cells": [
  {
   "cell_type": "code",
   "execution_count": 1,
   "id": "ab863577",
   "metadata": {},
   "outputs": [
    {
     "name": "stderr",
     "output_type": "stream",
     "text": [
      "/home/sudarshan/Documents/TDL/TDL2022/lib/python3.8/site-packages/torch/cuda/__init__.py:82: UserWarning: CUDA initialization: CUDA unknown error - this may be due to an incorrectly set up environment, e.g. changing env variable CUDA_VISIBLE_DEVICES after program start. Setting the available devices to be zero. (Triggered internally at  ../c10/cuda/CUDAFunctions.cpp:112.)\n",
      "  return torch._C._cuda_getDeviceCount() > 0\n"
     ]
    }
   ],
   "source": [
    "import numpy as np\n",
    "import torch\n",
    "from torch_geometric.loader import DataLoader\n",
    "from torch_geometric.data import Data\n",
    "from matplotlib import pyplot as plt\n",
    "from scipy.stats.kde import gaussian_kde\n"
   ]
  },
  {
   "cell_type": "code",
   "execution_count": 2,
   "id": "78706469",
   "metadata": {},
   "outputs": [],
   "source": [
    "means = 3\n",
    "sigma1 = 1\n",
    "\n",
    "NumMeans = 10 \n",
    "Mean = np.random.normal(means, sigma1, NumMeans ) \n",
    "x = np.arange(-2, 10, 0.024)\n",
    "kde = gaussian_kde( Mean )\n",
    "dist_space = np.linspace( min(Mean), max(Mean), 100 )"
   ]
  },
  {
   "cell_type": "code",
   "execution_count": 3,
   "id": "36d7c28a",
   "metadata": {
    "scrolled": true
   },
   "outputs": [
    {
     "data": {
      "image/png": "[encoded data removed]",
      "text/plain": [
       "<Figure size 432x288 with 1 Axes>"
      ]
     },
     "metadata": {
      "needs_background": "light"
     },
     "output_type": "display_data"
    }
   ],
   "source": [
    "plt.plot( dist_space, kde(dist_space) )\n",
    "plt.show()"
   ]
  },
  {
   "cell_type": "code",
   "execution_count": 4,
   "id": "14eaa200",
   "metadata": {},
   "outputs": [
    {
     "name": "stderr",
     "output_type": "stream",
     "text": [
      "/tmp/ipykernel_36734/870543743.py:33: UserWarning: Creating a tensor from a list of numpy.ndarrays is extremely slow. Please consider converting the list to a single numpy.ndarray with numpy.array() before converting to a tensor. (Triggered internally at  ../torch/csrc/utils/tensor_new.cpp:210.)\n",
      "  Data1 = torch.tensor(Data1 , device='cpu' , dtype=torch.float32)\n"
     ]
    }
   ],
   "source": [
    "numFeaturePts = 20\n",
    "Data1 = []\n",
    "y =[]\n",
    "for i in range( NumMeans ):\n",
    "    dist1 = np.array(  np.random.normal( Mean[i], sigma1, numFeaturePts ) ,  dtype=np.float32) \n",
    "    Data1.append(dist1)\n",
    "    if(Mean[i] < 2.5 ):\n",
    "        y.append(1)\n",
    "    else:\n",
    "        y.append(0)\n",
    "    \n",
    "\n",
    "for i in range( 0 , NumMeans, 2 ):\n",
    "    \n",
    "    if( y[i]+y[i+1] >= 1 ):\n",
    "        y.append( 1 )\n",
    "        if( y[i] == 1 ):\n",
    "            Data1.append( Data1[i] )\n",
    "        else:\n",
    "            Data1.append( Data1[i+1] )\n",
    "    else:\n",
    "        y.append(0)\n",
    "        Data1.append( Data1[i] )\n",
    "        \n",
    "    \n",
    "\n",
    "y.append(1)\n",
    "y.append(1)\n",
    "Data1.append( Data1[11] )\n",
    "Data1.append( Data1[14] )\n",
    "\n",
    "    \n",
    "Data1 = torch.tensor(Data1 , device='cpu' , dtype=torch.float32)\n",
    "\n",
    "y = torch.tensor( y, device='cpu' , dtype=torch.long  )\n",
    "\n",
    "\n"
   ]
  },
  {
   "cell_type": "code",
   "execution_count": 5,
   "id": "c4d56e1a",
   "metadata": {},
   "outputs": [],
   "source": [
    "edge_index = torch.tensor([[0, 10],\n",
    "                           [10, 0],\n",
    "\n",
    "                           [1, 10],\n",
    "                           [10, 1] ,\n",
    "\n",
    "                           [2 , 11] , \n",
    "                           [11, 2] , \n",
    "\n",
    "                           [3 , 11] , \n",
    "                           [11 , 3] , \n",
    "\n",
    "                           [4 , 12] , \n",
    "                           [12 , 4] ,\n",
    "\n",
    "                           [5,12],\n",
    "                           [12,5],\n",
    "\n",
    "                           [6,13],\n",
    "                           [13,6],\n",
    "\n",
    "                           [7 , 13],\n",
    "                           [13 , 7],\n",
    "\n",
    "                           [8,14],\n",
    "                           [14,8],\n",
    "\n",
    "                           [9 ,14],\n",
    "                           [14,8],\n",
    "\n",
    "                           [10,15],\n",
    "                           [15,10],\n",
    "\n",
    "                           [15,11],\n",
    "                           [11,15],\n",
    "\n",
    "                           [12,16],\n",
    "                           [16,12],\n",
    "\n",
    "                           [13,16],\n",
    "                           [16,13],\n",
    "\n",
    "                           [14,16],\n",
    "                           [16,14]\n",
    "\n",
    "                            ] , dtype=torch.long)\n",
    "\n",
    "\n",
    "edge_index = torch.transpose( edge_index ,  0 , 1)"
   ]
  },
  {
   "cell_type": "code",
   "execution_count": 6,
   "id": "5650e335",
   "metadata": {},
   "outputs": [],
   "source": [
    "train_mask = torch.tensor( [ True, True , True, False,True,True,True,True,True,False,False,False,False,False,False,False,False])\n",
    "\n",
    "data = Data(x=Data1, edge_index=edge_index , y=y , train_mask=train_mask , val_mask= train_mask, test_mask=train_mask)\n"
   ]
  },
  {
   "cell_type": "code",
   "execution_count": 7,
   "id": "017c778c",
   "metadata": {},
   "outputs": [
    {
     "name": "stdout",
     "output_type": "stream",
     "text": [
      "Data(x=[17, 20], edge_index=[2, 30], y=[17], train_mask=[17], val_mask=[17], test_mask=[17])\n"
     ]
    }
   ],
   "source": [
    "print( data)"
   ]
  },
  {
   "cell_type": "code",
   "execution_count": 8,
   "id": "8c19a96c",
   "metadata": {},
   "outputs": [],
   "source": [
    "import torch.nn.functional as F\n",
    "from torch_geometric.nn import GCNConv\n",
    "\n",
    "class GCN(torch.nn.Module):\n",
    "    def __init__(self):\n",
    "        super().__init__()\n",
    "        self.conv1 = GCNConv(20, 16)\n",
    "        self.conv2 = GCNConv(16, 2)\n",
    "\n",
    "    def forward(self, data):\n",
    "        x, edge_index = data.x, data.edge_index\n",
    "        \n",
    "        x = self.conv1(x, edge_index)\n",
    "        x = F.relu(x)\n",
    "        x = F.dropout(x, training=self.training)\n",
    "        x = self.conv2(x, edge_index)\n",
    "\n",
    "        return F.log_softmax(x, dim=1)"
   ]
  },
  {
   "cell_type": "code",
   "execution_count": 9,
   "id": "fb37857c",
   "metadata": {},
   "outputs": [
    {
     "name": "stdout",
     "output_type": "stream",
     "text": [
      "cpu\n"
     ]
    }
   ],
   "source": [
    "device = 'cpu' #torch.device('cuda' if torch.cuda.is_available() else 'cpu')\n",
    "print(device)\n",
    "model = GCN().to(device)\n",
    "# data = dataset[0].to(device)\n",
    "optimizer = torch.optim.Adam(model.parameters(), lr=0.01, weight_decay=5e-4)\n",
    "\n",
    "model.train()\n",
    "for epoch in range(50):\n",
    "    optimizer.zero_grad()\n",
    "    out = model(data)\n",
    "    loss = F.nll_loss(out[data.train_mask], data.y[data.train_mask])\n",
    "    loss.backward()\n",
    "    optimizer.step()"
   ]
  },
  {
   "cell_type": "code",
   "execution_count": 10,
   "id": "f52dc23a",
   "metadata": {},
   "outputs": [
    {
     "name": "stdout",
     "output_type": "stream",
     "text": [
      "tensor([0, 0, 0, 0, 0, 0, 0, 0, 0, 0, 0, 0, 0, 0, 0, 0, 0])\n",
      "tensor(7)\n",
      "Accuracy: 0.8750\n"
     ]
    }
   ],
   "source": [
    "model.eval()\n",
    "pred = model(data).argmax(dim=1)\n",
    "print(pred)\n",
    "correct = (pred[data.test_mask] == data.y[data.test_mask]).sum()\n",
    "print(correct)\n",
    "\n",
    "acc = int(correct) / int(data.test_mask.sum())\n",
    "print(f'Accuracy: {acc:.4f}')"
   ]
  },
  {
   "cell_type": "code",
   "execution_count": 11,
   "id": "9789f7ad",
   "metadata": {},
   "outputs": [
    {
     "name": "stdout",
     "output_type": "stream",
     "text": [
      "tensor([0, 0, 0, 0, 0, 0, 0, 0, 1, 0, 0, 0, 0, 0, 1, 1, 1])\n"
     ]
    }
   ],
   "source": [
    "print(y)"
   ]
  },
  {
   "cell_type": "code",
   "execution_count": 12,
   "id": "9c4b7907",
   "metadata": {},
   "outputs": [],
   "source": [
    "torch.save(model.state_dict(), 'collision_model_weights.pth')"
   ]
  }
 ],
 "metadata": {
  "kernelspec": {
   "display_name": "TDL2022",
   "language": "python",
   "name": "tdl2022"
  },
  "language_info": {
   "codemirror_mode": {
    "name": "ipython",
    "version": 3
   },
   "file_extension": ".py",
   "mimetype": "text/x-python",
   "name": "python",
   "nbconvert_exporter": "python",
   "pygments_lexer": "ipython3",
   "version": "3.8.10"
  }
 },
 "nbformat": 4,
 "nbformat_minor": 5
}
